{
  "nbformat": 4,
  "nbformat_minor": 0,
  "metadata": {
    "colab": {
      "provenance": []
    },
    "kernelspec": {
      "name": "python3",
      "display_name": "Python 3"
    },
    "language_info": {
      "name": "python"
    }
  },
  "cells": [
    {
      "cell_type": "code",
      "source": [
        "from google.colab import drive\n",
        "drive.mount('/content/drive')\n",
        "import json\n",
        "file_path = '/content/drive/My Drive/EOD_2_SN/SN/all_metadata.json'\n",
        "with open(file_path, 'r') as f:\n",
        "    data = json.load(f)\n",
        "keys_to_extract = [\n",
        "    \"image_name\", \"dp_detector_type\",  \"ap_actualkv\", \"ap_wd\",\n",
        "    \"ap_aperturesize\"\n",
        "]\n",
        "extracted_data = []\n",
        "for image_name, image_data in data.items():  # Iterate through each image in the data\n",
        "    cz_sem_data = image_data.get(\"CZ_SEM\", {})  # Get the \"CZ_SEM\" dictionary for the current image\n",
        "    if cz_sem_data:\n",
        "        extracted_item = {}  # Dictionary to store extracted data for this item\n",
        "        extracted_item['image_name'] = image_name  # Add the image name to the extracted data\n",
        "        for key in keys_to_extract:\n",
        "            extracted_item[key] = cz_sem_data.get(key)  # Extract value for each key from cz_sem_data\n",
        "        extracted_data.append(extracted_item)  # Append the extracted item to the list\n",
        "output_file_path = '/content/drive/My Drive/EOD_2_SN/SN/filtered_data_all2.json'  # Change to your desired path\n",
        "with open(output_file_path, 'w') as outfile:\n",
        "    json.dump(extracted_data, outfile, indent=4)  # indent=4 for pretty printing\n",
        "\n",
        "print(f\"Extracted data written to: {output_file_path}\")\n"
      ],
      "metadata": {
        "colab": {
          "base_uri": "https://localhost:8080/"
        },
        "id": "MkqIYx1wQsyC",
        "outputId": "2bb700a6-b185-4993-d38a-ecd0bbb2cacf"
      },
      "execution_count": 9,
      "outputs": [
        {
          "output_type": "stream",
          "name": "stdout",
          "text": [
            "Drive already mounted at /content/drive; to attempt to forcibly remount, call drive.mount(\"/content/drive\", force_remount=True).\n",
            "Extracted data written to: /content/drive/My Drive/EOD_2_SN/SN/filtered_data_all2.json\n"
          ]
        }
      ]
    }
  ]
}