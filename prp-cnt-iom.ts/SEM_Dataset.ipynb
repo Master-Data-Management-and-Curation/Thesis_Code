{
  "nbformat": 4,
  "nbformat_minor": 0,
  "metadata": {
    "colab": {
      "provenance": []
    },
    "kernelspec": {
      "name": "python3",
      "display_name": "Python 3"
    },
    "language_info": {
      "name": "python"
    }
  },
  "cells": [
    {
      "cell_type": "code",
      "execution_count": 1,
      "metadata": {
        "colab": {
          "base_uri": "https://localhost:8080/"
        },
        "id": "5-tmT7QjYm1V",
        "outputId": "7b2865f4-13b4-4439-cec4-fc948549980e"
      },
      "outputs": [
        {
          "output_type": "stream",
          "name": "stdout",
          "text": [
            "Mounted at /content/drive\n",
            "✅ Combined dataset saved to: /content/drive/My Drive/EOD_2_SN/SN/combined_sem_dataset.csv\n"
          ]
        }
      ],
      "source": [
        "from google.colab import drive\n",
        "import pandas as pd\n",
        "import os\n",
        "\n",
        "# Mount Google Drive\n",
        "drive.mount('/content/drive')\n",
        "\n",
        "# Define folder path\n",
        "folder_path = '/content/drive/My Drive/EOD_2_SN/SN/'\n",
        "\n",
        "# Load the CSV files from Drive\n",
        "brisque_path = os.path.join(folder_path, 'brisque_scores_with_metadata.csv')\n",
        "niqe_path = os.path.join(folder_path, 'niqe_scores_with_metadata.csv')\n",
        "\n",
        "# Read both CSVs\n",
        "brisque_df = pd.read_csv(brisque_path)\n",
        "niqe_df = pd.read_csv(niqe_path)\n",
        "\n",
        "# Merge on the 'File' column\n",
        "merged_df = pd.merge(\n",
        "    brisque_df,\n",
        "    niqe_df[['File', 'Score']],\n",
        "    on='File',\n",
        "    suffixes=('_BRISQUE', '_NIQE')\n",
        ")\n",
        "\n",
        "# Rename and select relevant columns\n",
        "merged_df = merged_df.rename(columns={\n",
        "    'File': 'Image_File',\n",
        "    'Score_BRISQUE': 'BRISQUE_Score',\n",
        "    'Score_NIQE': 'NIQE_Score',\n",
        "    'ap_aperturesize': 'Aperture_Size',\n",
        "    'ap_wd': 'Working_Distance',\n",
        "    'ap_actualkv': 'Accelerating_Voltage',\n",
        "    'sv_file_name': 'Sample_Name'\n",
        "})\n",
        "\n",
        "final_df = merged_df[[\n",
        "    'Image_File', 'Sample_Name', 'Accelerating_Voltage',\n",
        "    'Working_Distance', 'Aperture_Size',\n",
        "    'BRISQUE_Score', 'NIQE_Score'\n",
        "]]\n",
        "\n",
        "# Save the merged dataset to your Drive\n",
        "output_path = os.path.join(folder_path, 'combined_sem_dataset.csv')\n",
        "final_df.to_csv(output_path, index=False)\n",
        "\n",
        "print(f\"✅ Combined dataset saved to: {output_path}\")\n"
      ]
    }
  ]
}