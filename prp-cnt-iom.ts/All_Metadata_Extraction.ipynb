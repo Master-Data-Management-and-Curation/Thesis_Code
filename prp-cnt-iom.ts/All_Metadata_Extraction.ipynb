{
  "nbformat": 4,
  "nbformat_minor": 0,
  "metadata": {
    "colab": {
      "provenance": []
    },
    "kernelspec": {
      "name": "python3",
      "display_name": "Python 3"
    },
    "language_info": {
      "name": "python"
    }
  },
  "cells": [
    {
      "cell_type": "code",
      "execution_count": 1,
      "metadata": {
        "colab": {
          "base_uri": "https://localhost:8080/"
        },
        "id": "WC27fDEsK0nq",
        "outputId": "fc64d3ff-9b8f-4b6c-8b7a-ffbbb30c494b"
      },
      "outputs": [
        {
          "output_type": "stream",
          "name": "stdout",
          "text": [
            "Mounted at /content/drive\n",
            "Metadata for 60-55-28.tif added to the collection\n",
            "Metadata for 60-56-27.tif added to the collection\n",
            "Metadata for 60-52-35.tif added to the collection\n",
            "Metadata for 60-60-26.tif added to the collection\n",
            "Metadata for 60-62-21.tif added to the collection\n",
            "Metadata for 60-57-23.tif added to the collection\n",
            "Metadata for 60-51-34.tif added to the collection\n",
            "Metadata for 60-54-30.tif added to the collection\n",
            "Metadata for 60-59-25.tif added to the collection\n",
            "Metadata for 60-61-0122.tif added to the collection\n",
            "Metadata for 60-63-20.tif added to the collection\n",
            "Metadata for 60-53-31.tif added to the collection\n",
            "Metadata for 60-50-33.tif added to the collection\n",
            "Metadata for 60-64-19.tif added to the collection\n",
            "Metadata for 20-17-43.tif added to the collection\n",
            "Metadata for 20-31-52.tif added to the collection\n",
            "Metadata for 20-32-39.tif added to the collection\n",
            "Metadata for 60-58-24.tif added to the collection\n",
            "Metadata for 20-30-51.tif added to the collection\n",
            "Metadata for 20-29-50.tif added to the collection\n",
            "Metadata for 20-26-48.tif added to the collection\n",
            "Metadata for 20-28-38.tif added to the collection\n",
            "Metadata for 20-25-49.tif added to the collection\n",
            "Metadata for 20-21-46.tif added to the collection\n",
            "Metadata for 20-18-42.tif added to the collection\n",
            "Metadata for 20-27-47.tif added to the collection\n",
            "Metadata for 20--20-36.tif added to the collection\n",
            "Metadata for 20-19-41.tif added to the collection\n",
            "Metadata for 20-22-45.tif added to the collection\n",
            "Metadata for 20--24-37.tif added to the collection\n",
            "Metadata for 20-23-44.tif added to the collection\n",
            "Metadata for 60-49-32.tif added to the collection\n",
            "Metadata for 10-4-67.tif added to the collection\n",
            "Metadata for 10-13-58.tif added to the collection\n",
            "Metadata for 10-2-69.tif added to the collection\n",
            "Metadata for 10-16-56.tif added to the collection\n",
            "Metadata for 10-15-53.tif added to the collection\n",
            "Metadata for 10-7-64.tif added to the collection\n",
            "Metadata for 10-5-66.tif added to the collection\n",
            "Metadata for 10-10-61.tif added to the collection\n",
            "Metadata for 10-12-59.tif added to the collection\n",
            "Metadata for 10-1-70.tif added to the collection\n",
            "Metadata for 10-8-63.tif added to the collection\n",
            "Metadata for 10-14-57.tif added to the collection\n",
            "Metadata for 10-6-65.tif added to the collection\n",
            "Metadata for 10-9-62.tif added to the collection\n",
            "Metadata for 30-36-04.tif added to the collection\n",
            "Metadata for 30-45-18.tif added to the collection\n",
            "Metadata for 30-48-14.tif added to the collection\n",
            "Metadata for 30-35-03.tif added to the collection\n",
            "Metadata for 30-44-12.tif added to the collection\n",
            "Metadata for 10-3-68.tif added to the collection\n",
            "Metadata for 30-41-09.tif added to the collection\n",
            "Metadata for 30-39-06.tif added to the collection\n",
            "Metadata for 30-38-07.tif added to the collection\n",
            "Metadata for 30-42-10.tif added to the collection\n",
            "Metadata for 10-11-60.tif added to the collection\n",
            "Metadata for 30-33-01.tif added to the collection\n",
            "Metadata for 30-40-05.tif added to the collection\n",
            "Metadata for 30-37-08.tif added to the collection\n",
            "Metadata for 30-43-11.tif added to the collection\n",
            "Metadata for 30-46-17.tif added to the collection\n",
            "Metadata for 30-47-15.tif added to the collection\n",
            "Metadata for 30-34-02.tif added to the collection\n",
            "All metadata saved to /content/drive/My Drive/EOD_2/all_metadata10.json\n"
          ]
        }
      ],
      "source": [
        "from google.colab import drive\n",
        "import tifffile\n",
        "import os\n",
        "import json\n",
        "import numpy as np\n",
        "drive.mount('/content/drive')\n",
        "folder_path = '/content/drive/My Drive/EOD_2'\n",
        "output_folder = '/content/drive/My Drive/EOD_2/'\n",
        "os.makedirs(output_folder, exist_ok=True)\n",
        "all_metadata = {}\n",
        "for filename in os.listdir(folder_path):\n",
        " if filename.endswith('.tif') or filename.endswith('.tiff'):\n",
        "  image_path = os.path.join(folder_path, filename)\n",
        "  metadata = {}\n",
        "  with tifffile.TiffFile(image_path) as sem_image:\n",
        "   for page in sem_image.pages:\n",
        "    for tag in page.tags.values():\n",
        "     if isinstance(tag.value, np.ndarray):\n",
        "       metadata[tag.name] = tag.value.tolist()\n",
        "     else:\n",
        "       metadata[tag.name] = tag.value\n",
        "  all_metadata[filename] = metadata\n",
        "  print(f\"Metadata for {filename} added to the collection\")\n",
        "output_filename = 'all_metadata10.json'\n",
        "output_path = os.path.join(output_folder, output_filename)\n",
        "with open(output_path, 'w') as f:\n",
        " json.dump(all_metadata, f, indent=4)\n",
        "print(f\"All metadata saved to {output_path}\")\n"
      ]
    }
  ]
}