{
  "nbformat": 4,
  "nbformat_minor": 0,
  "metadata": {
    "colab": {
      "provenance": []
    },
    "kernelspec": {
      "name": "python3",
      "display_name": "Python 3"
    },
    "language_info": {
      "name": "python"
    }
  },
  "cells": [
    {
      "cell_type": "code",
      "execution_count": 1,
      "metadata": {
        "colab": {
          "base_uri": "https://localhost:8080/"
        },
        "id": "wegbBtsgFfEu",
        "outputId": "98c9300a-c113-4493-ad89-1a9ff49e92cb"
      },
      "outputs": [
        {
          "output_type": "stream",
          "name": "stdout",
          "text": [
            "Mounted at /content/drive\n",
            "    Run #  Working Distance (mm)  EHT (kV)  Aperture Size (µm)\n",
            "0       1                      3       1.5                  10\n",
            "1       2                      3       1.5                  20\n",
            "2       3                      3       1.5                  30\n",
            "3       4                      3       1.5                  60\n",
            "4       5                      3       3.0                  10\n",
            "..    ...                    ...       ...                 ...\n",
            "59     60                     10       5.0                  60\n",
            "60     61                     10      10.0                  10\n",
            "61     62                     10      10.0                  20\n",
            "62     63                     10      10.0                  30\n",
            "63     64                     10      10.0                  60\n",
            "\n",
            "[64 rows x 4 columns]\n"
          ]
        }
      ],
      "source": [
        "from google.colab import drive\n",
        "drive.mount('/content/drive')\n",
        "from itertools import product\n",
        "import pandas as pd\n",
        "working_distance = [3, 5, 7, 10]  # mm\n",
        "EHT = [1.5, 3, 5, 10]  # kV\n",
        "aperture_size = [10, 20, 30, 60]  # µm\n",
        "factorial_design = list(product(working_distance, EHT, aperture_size))\n",
        "experiment_table = pd.DataFrame(factorial_design, columns=['Working Distance (mm)', 'EHT (kV)', 'Aperture Size (µm)'])\n",
        "experiment_table.insert(0, 'Run #', range(1, len(experiment_table) + 1))\n",
        "print(experiment_table)\n",
        "experiment_table.to_csv('/content/drive/My Drive/EOD_2/full_factorial_design 10.csv', index=False)\n"
      ]
    }
  ]
}