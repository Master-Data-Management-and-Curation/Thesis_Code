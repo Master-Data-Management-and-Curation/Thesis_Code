{
 "cells": [
  {
   "cell_type": "code",
   "execution_count": null,
   "id": "39a7a598-e403-424f-b760-3353d76c4a17",
   "metadata": {},
   "outputs": [],
   "source": [
    "# Original code by L.Costantini - reviewed with G.Gallerani\n",
    "# Updated with axes and signal attributes in order to generate the correct graph with myHDF5\n",
    "# Updated with the attributes \"URL\" and \"version\"\n",
    "# Updated with parameter reliability \n",
    "\n",
    "from datetime import datetime, timezone\n",
    "import h5py\n",
    "import numpy as np\n",
    "from pathlib import Path\n",
    "\n",
    "input_file = 'insert path of the input file'\n",
    "output_dir = 'insert path of the output directory'"
   ]
  },
  {
   "cell_type": "code",
   "execution_count": null,
   "id": "00a6a142-a386-4b0d-a5be-724e4a9539c2",
   "metadata": {},
   "outputs": [],
   "source": [
    "input_file = Path(input_file)\n",
    "output_dir = Path(output_dir)\n",
    "\n",
    "# Extract data from the input file\n",
    "data = np.loadtxt('insert input file')\n",
    "wavelenght = data[1:, 0]\n",
    "delay_time = data[0, 1:]\n",
    "signal = data[1:, 1:]"
   ]
  },
  {
   "cell_type": "code",
   "execution_count": null,
   "id": "7224a749-fabd-4ba2-b65b-96fe46970166",
   "metadata": {},
   "outputs": [],
   "source": [
    "now_datetime = datetime.now()\n",
    "\n",
    "output_file = output_dir/Path(f\"FTAS_{now_datetime.strftime(\"%Y%m%d_%H%M%S\")}.nxs\")\n",
    "f = h5py.File(output_file, \"w\")\n",
    "f.attrs['default'] = 'entry'"
   ]
  },
  {
   "cell_type": "code",
   "execution_count": null,
   "id": "c789086e-2620-4f71-b9c0-b05d859f0921",
   "metadata": {},
   "outputs": [],
   "source": [
    "# /entry\n",
    "f.create_group(\"entry\")\n",
    "f['/entry'].attrs[\"NX_class\"]= \"NXentry\"\n",
    "f['/entry'].attrs[\"default\"] = \"data\""
   ]
  },
  {
   "cell_type": "code",
   "execution_count": null,
   "id": "c06335d2-a687-4816-87d8-7500db916f0a",
   "metadata": {},
   "outputs": [],
   "source": [
    "# /entry/definition\n",
    "f['/entry'].create_dataset('definition',data='NXoptical_spectroscopy')"
   ]
  },
  {
   "cell_type": "code",
   "execution_count": null,
   "id": "5524c383-7a2c-41dd-850b-ac47b82a3056",
   "metadata": {},
   "outputs": [],
   "source": [
    "# /entry/version\n",
    "\n",
    "f['/entry/definition'].attrs[\"version\"] = 'v2024.02'\n",
    "f['/entry/definition'].attrs[\"URL\"] = 'https://github.com/FAIRmat-NFDI/nexus_definitions/blob/fd58c03d6c1be6469c2aff92ae7649fe5ad38a63/contributed_definitions/NXoptical_spectroscopy.nxdl.xml'\n",
    "\n",
    "# /entry/experiment_description\n",
    "f['/entry'].create_dataset('experiment_description',data='FEMTOSECOND TRANSIENT ABSORPTION SPECTROSCOPY')\n",
    "f['/entry/experiment_description'].attrs[\"description\"] = 'Technique'\n",
    "\n",
    "# /entry/end_time\n",
    "f['/entry'].create_dataset('end_time',data=now_datetime.astimezone().isoformat())\n",
    "\n",
    "# /entry/title\n",
    "f['/entry'].create_dataset('title',data=str(input_file.stem))\n",
    "\n",
    "# /entry/experiment_type and sub_type\n",
    "f['/entry'].create_dataset('experiment_type', data='Transmission Spectroscopy')\n",
    "f['/entry'].create_dataset('experiment_sub_type', data='Pump-Probe')\n",
    "\n",
    "# /entry/user - (labelled as not necessary in the Word draft)\n",
    "f['/entry'].create_group(\"user\")\n",
    "f['/entry/user'].create_dataset('name', data = 'Mario Rossi')\n",
    "f['/entry/user'].create_dataset('e-mail', data = 'mario.rossi@cnr.it')\n",
    "f['/entry/user'].create_dataset('affiliation', data = 'CNR-ISM @ Rome - EuroFEL Support Lab') "
   ]
  },
  {
   "cell_type": "code",
   "execution_count": null,
   "id": "b4b732f4-3aa1-4c00-9439-fa0e875b84be",
   "metadata": {},
   "outputs": [],
   "source": [
    "# Introduction of the Instrument group\n",
    "f['/entry'].create_group(\"instrument\")\n",
    "f['/entry/instrument'].attrs['NX_class'] = \"NXinstrument\"\n",
    "\n",
    "# /entry/instrument/source\n",
    "f['/entry/instrument'].create_group(\"source_TYPE\")\n",
    "f['/entry/instrument/source_TYPE'].attrs[\"NX_class\"] = \"NXsource\"\n",
    "f['/entry/instrument/source_TYPE'].create_dataset('source', data = 'pump')\n",
    "f['/entry/instrument/source_TYPE'].create_dataset('type', data = 'laser')\n",
    "f['/entry/instrument/source_TYPE'].create_dataset('pulse_energy', data = '100')\n",
    "f['/entry/instrument/source_TYPE/pulse_energy'].attrs['units']='nJ'\n",
    "\n",
    "# /entry/instrument/beam/pump\n",
    "f['/entry/instrument'].create_group(\"beam_pump\")\n",
    "f['/entry/instrument/beam_pump'].attrs['NX_class'] = \"NXbeam\"\n",
    "f['/entry/instrument/beam_pump'].create_dataset('beam_type', data = 'pump')\n",
    "f['/entry/instrument/beam_pump'].create_dataset('incident_wavelenght', data = '450')\n",
    "f['/entry/instrument/beam_pump/incident_wavelenght'].attrs['units'] = 'nm'\n",
    "f['/entry/instrument/beam_pump'].create_dataset('parameter_reliability', data = 'nominal')\n",
    "f['/entry/instrument/beam_pump'].create_dataset('beam_polarization_type', data = 'linear')\n",
    "\n",
    "# /entry/instrument/beam/probe\n",
    "f['/entry/instrument'].create_group(\"beam_probe\")\n",
    "f['/entry/instrument/beam_probe'].attrs['NX_class'] = \"NXbeam\"\n",
    "f['/entry/instrument/beam_probe'].create_dataset('beam_type', data = 'probe')\n",
    "f['/entry/instrument/beam_probe'].create_dataset('incident_wavelenght', data = '350-750')\n",
    "f['/entry/instrument/beam_probe/incident_wavelenght'].attrs['units'] = 'nm'\n",
    "f['/entry/instrument/beam_probe'].create_dataset(\"parameter_reliability\",data = \"measured\")\n",
    "f['/entry/instrument/beam_probe'].create_dataset('beam_polarization_type', data = 'linear')\n",
    "\n",
    "# /entry/instrument/detector\n",
    "f['/entry/instrument'].create_group(\"detector_TYPE\")\n",
    "f['/entry/instrument/detector_TYPE'].attrs['NXclass'] = \"NXdetector\"\n",
    "f['/entry/instrument/detector_TYPE'].create_dataset('detector_type', data = 'CCD')\n",
    "f['/entry/instrument/detector_TYPE'].create_dataset('detector_channel_type', data = 'multichannel')\n",
    "f['/entry/instrument/detector_TYPE'].create_dataset('count_time', data = '5')"
   ]
  },
  {
   "cell_type": "code",
   "execution_count": null,
   "id": "cd64d2d1-420e-408a-9f26-d6a2f5b88694",
   "metadata": {},
   "outputs": [],
   "source": [
    "# /entry/data\n",
    "f['/entry'].create_group(\"data\")\n",
    "f['/entry/data'].attrs['NX_class']= \"NXdata\"\n",
    "f['/entry/data'].create_dataset(\"intensity\", data = signal)\n",
    "f['/entry/data'].attrs[\"signal\"] = \"intensity\" \n",
    "f['/entry/data/intensity'].attrs[\"units\"] = \"mOD\"\n",
    "f['/entry/data'].create_dataset(\"wavelenght\", data = wavelenght)\n",
    "f['/entry/data/wavelenght'].attrs[\"units\"] = \"nm\"\n",
    "f['/entry/data'].attrs[\"axes\"]=[\"wavelenght\", \"delay_time\"] \n",
    "f['/entry/data'].create_dataset(\"delay_time\", data = delay_time)\n",
    "f['/entry/data/delay_time'].attrs[\"units\"] = \"ps\"\n",
    "\n",
    "# /entry/raw_data\n",
    "f['/entry'].create_group(\"raw_data\")\n",
    "f['/entry/raw_data'].attrs['NX_class']= \"NXdata\"\n",
    "f['/entry/raw_data'].attrs['signal']= \"raw\"\n",
    "f['/entry/raw_data'].create_dataset(\"raw\", data = data) \n",
    "#Contains the raw data collected by the detector before calibration. The data which is considered raw might change from experiment to experiment due to hardware pre-processing of the data. This field ideally collects the data with the lowest level of processing possible.\n",
    "\n",
    "# /entry/sample\n",
    "\n",
    "f['/entry'].create_group(\"sample\")\n",
    "f['/entry/sample'].attrs['NXclass']= \"NXsample\"\n",
    "f['/entry/sample'].create_dataset('sample_name', data = 'formamidinium lead bromide')\n",
    "f['/entry/sample'].create_dataset('chemical_formula', data = 'FAPbBr3')\n",
    "f['/entry/sample'].create_dataset('physical_form', data ='solid')"
   ]
  },
  {
   "cell_type": "code",
   "execution_count": null,
   "id": "91757e2d-621f-4b86-bb70-96eaa879ac3a",
   "metadata": {},
   "outputs": [],
   "source": [
    "f.close()"
   ]
  },
  {
   "cell_type": "code",
   "execution_count": null,
   "id": "63390e06-3121-48b5-822e-2b2393593543",
   "metadata": {
    "scrolled": true
   },
   "outputs": [],
   "source": [
    "# Visualize the NeXus file tree\n",
    "from nexusformat.nexus import *\n",
    "\n",
    "test=nxload(output_file)\n",
    "print(test.tree)"
   ]
  },
  {
   "cell_type": "code",
   "execution_count": null,
   "id": "143bd26d-d0df-405e-9611-1b181827495d",
   "metadata": {},
   "outputs": [],
   "source": []
  }
 ],
 "metadata": {
  "kernelspec": {
   "display_name": "Python 3 (ipykernel)",
   "language": "python",
   "name": "python3"
  },
  "language_info": {
   "codemirror_mode": {
    "name": "ipython",
    "version": 3
   },
   "file_extension": ".py",
   "mimetype": "text/x-python",
   "name": "python",
   "nbconvert_exporter": "python",
   "pygments_lexer": "ipython3",
   "version": "3.13.2"
  }
 },
 "nbformat": 4,
 "nbformat_minor": 5
}
